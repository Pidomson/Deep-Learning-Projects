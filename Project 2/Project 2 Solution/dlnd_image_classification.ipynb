{
 "cells": [
  {
   "cell_type": "markdown",
   "metadata": {
    "collapsed": true,
    "deletable": true,
    "editable": true
   },
   "source": [
    "# Image Classification\n",
    "In this project, you'll classify images from the [CIFAR-10 dataset](https://www.cs.toronto.edu/~kriz/cifar.html).  The dataset consists of airplanes, dogs, cats, and other objects. You'll preprocess the images, then train a convolutional neural network on all the samples. The images need to be normalized and the labels need to be one-hot encoded.  You'll get to apply what you learned and build a convolutional, max pooling, dropout, and fully connected layers.  At the end, you'll get to see your neural network's predictions on the sample images.\n",
    "## Get the Data\n",
    "Run the following cell to download the [CIFAR-10 dataset for python](https://www.cs.toronto.edu/~kriz/cifar-10-python.tar.gz)."
   ]
  },
  {
   "cell_type": "code",
   "execution_count": 1,
   "metadata": {
    "collapsed": false,
    "deletable": true,
    "editable": true
   },
   "outputs": [
    {
     "name": "stdout",
     "output_type": "stream",
     "text": [
      "All files found!\n"
     ]
    }
   ],
   "source": [
    "\"\"\"\n",
    "DON'T MODIFY ANYTHING IN THIS CELL THAT IS BELOW THIS LINE\n",
    "\"\"\"\n",
    "from urllib.request import urlretrieve\n",
    "from os.path import isfile, isdir\n",
    "from tqdm import tqdm\n",
    "import problem_unittests as tests\n",
    "import tarfile\n",
    "\n",
    "cifar10_dataset_folder_path = 'cifar-10-batches-py'\n",
    "\n",
    "class DLProgress(tqdm):\n",
    "    last_block = 0\n",
    "\n",
    "    def hook(self, block_num=1, block_size=1, total_size=None):\n",
    "        self.total = total_size\n",
    "        self.update((block_num - self.last_block) * block_size)\n",
    "        self.last_block = block_num\n",
    "\n",
    "if not isfile('cifar-10-python.tar.gz'):\n",
    "    with DLProgress(unit='B', unit_scale=True, miniters=1, desc='CIFAR-10 Dataset') as pbar:\n",
    "        urlretrieve(\n",
    "            'https://www.cs.toronto.edu/~kriz/cifar-10-python.tar.gz',\n",
    "            'cifar-10-python.tar.gz',\n",
    "            pbar.hook)\n",
    "\n",
    "if not isdir(cifar10_dataset_folder_path):\n",
    "    with tarfile.open('cifar-10-python.tar.gz') as tar:\n",
    "        tar.extractall()\n",
    "        tar.close()\n",
    "\n",
    "\n",
    "tests.test_folder_path(cifar10_dataset_folder_path)"
   ]
  },
  {
   "cell_type": "markdown",
   "metadata": {
    "deletable": true,
    "editable": true
   },
   "source": [
    "## Explore the Data\n",
    "The dataset is broken into batches to prevent your machine from running out of memory.  The CIFAR-10 dataset consists of 5 batches, named `data_batch_1`, `data_batch_2`, etc.. Each batch contains the labels and images that are one of the following:\n",
    "* airplane\n",
    "* automobile\n",
    "* bird\n",
    "* cat\n",
    "* deer\n",
    "* dog\n",
    "* frog\n",
    "* horse\n",
    "* ship\n",
    "* truck\n",
    "\n",
    "Understanding a dataset is part of making predictions on the data.  Play around with the code cell below by changing the `batch_id` and `sample_id`. The `batch_id` is the id for a batch (1-5). The `sample_id` is the id for a image and label pair in the batch.\n",
    "\n",
    "Ask yourself \"What are all possible labels?\", \"What is the range of values for the image data?\", \"Are the labels in order or random?\".  Answers to questions like these will help you preprocess the data and end up with better predictions."
   ]
  },
  {
   "cell_type": "code",
   "execution_count": 2,
   "metadata": {
    "collapsed": false,
    "deletable": true,
    "editable": true
   },
   "outputs": [
    {
     "name": "stdout",
     "output_type": "stream",
     "text": [
      "\n",
      "Stats of batch 3:\n",
      "Samples: 10000\n",
      "Label Counts: {0: 994, 1: 1042, 2: 965, 3: 997, 4: 990, 5: 1029, 6: 978, 7: 1015, 8: 961, 9: 1029}\n",
      "First 20 Labels: [8, 5, 0, 6, 9, 2, 8, 3, 6, 2, 7, 4, 6, 9, 0, 0, 7, 3, 7, 2]\n",
      "\n",
      "Example of Image 20:\n",
      "Image - Min Value: 26 Max Value: 252\n",
      "Image - Shape: (32, 32, 3)\n",
      "Label - Label Id: 5 Name: dog\n"
     ]
    },
    {
     "data": {
      "image/png": "[encoded data removed]",
      "text/plain": [
       "<matplotlib.figure.Figure at 0x7f7c4853f588>"
      ]
     },
     "metadata": {
      "image/png": {
       "height": 250,
       "width": 253
      }
     },
     "output_type": "display_data"
    }
   ],
   "source": [
    "%matplotlib inline\n",
    "%config InlineBackend.figure_format = 'retina'\n",
    "\n",
    "import helper\n",
    "import numpy as np\n",
    "\n",
    "# Explore the dataset\n",
    "batch_id = 3\n",
    "sample_id = 20\n",
    "helper.display_stats(cifar10_dataset_folder_path, batch_id, sample_id)"
   ]
  },
  {
   "cell_type": "markdown",
   "metadata": {
    "deletable": true,
    "editable": true
   },
   "source": [
    "## Implement Preprocess Functions\n",
    "### Normalize\n",
    "In the cell below, implement the `normalize` function to take in image data, `x`, and return it as a normalized Numpy array. The values should be in the range of 0 to 1, inclusive.  The return object should be the same shape as `x`."
   ]
  },
  {
   "cell_type": "code",
   "execution_count": 3,
   "metadata": {
    "collapsed": false,
    "deletable": true,
    "editable": true
   },
   "outputs": [
    {
     "name": "stdout",
     "output_type": "stream",
     "text": [
      "Tests Passed\n"
     ]
    }
   ],
   "source": [
    "def normalize(x):\n",
    "    \"\"\"\n",
    "    Normalize a list of sample image data in the range of 0 to 1\n",
    "    : x: List of image data.  The image shape is (32, 32, 3)\n",
    "    : return: Numpy array of normalize data\n",
    "    \"\"\"\n",
    "    # TODO: Implement Function\n",
    "    min = 0\n",
    "    max = 255\n",
    "    return (x-min)/(max-min)\n",
    "\n",
    "\n",
    "\"\"\"\n",
    "DON'T MODIFY ANYTHING IN THIS CELL THAT IS BELOW THIS LINE\n",
    "\"\"\"\n",
    "tests.test_normalize(normalize)"
   ]
  },
  {
   "cell_type": "markdown",
   "metadata": {
    "deletable": true,
    "editable": true
   },
   "source": [
    "### One-hot encode\n",
    "Just like the previous code cell, you'll be implementing a function for preprocessing.  This time, you'll implement the `one_hot_encode` function. The input, `x`, are a list of labels.  Implement the function to return the list of labels as One-Hot encoded Numpy array.  The possible values for labels are 0 to 9. The one-hot encoding function should return the same encoding for each value between each call to `one_hot_encode`.  Make sure to save the map of encodings outside the function.\n",
    "\n",
    "Hint: Don't reinvent the wheel."
   ]
  },
  {
   "cell_type": "code",
   "execution_count": 4,
   "metadata": {
    "collapsed": false,
    "deletable": true,
    "editable": true
   },
   "outputs": [
    {
     "name": "stdout",
     "output_type": "stream",
     "text": [
      "Tests Passed\n"
     ]
    }
   ],
   "source": [
    "def one_hot_encode(x):\n",
    "    \"\"\"\n",
    "    One hot encode a list of sample labels. Return a one-hot encoded vector for each label.\n",
    "    : x: List of sample Labels\n",
    "    : return: Numpy array of one-hot encoded labels\n",
    "    \"\"\"\n",
    "    # TODO: Implement Function\n",
    "    y = np.zeros((len(x), 10))\n",
    "    for i in range(len(x)):\n",
    "        y[i,x[i]] = 1\n",
    "    return y\n",
    "\n",
    "\n",
    "\"\"\"\n",
    "DON'T MODIFY ANYTHING IN THIS CELL THAT IS BELOW THIS LINE\n",
    "\"\"\"\n",
    "tests.test_one_hot_encode(one_hot_encode)"
   ]
  },
  {
   "cell_type": "markdown",
   "metadata": {
    "deletable": true,
    "editable": true
   },
   "source": [
    "### Randomize Data\n",
    "As you saw from exploring the data above, the order of the samples are randomized.  It doesn't hurt to randomize it again, but you don't need to for this dataset."
   ]
  },
  {
   "cell_type": "markdown",
   "metadata": {
    "deletable": true,
    "editable": true
   },
   "source": [
    "## Preprocess all the data and save it\n",
    "Running the code cell below will preprocess all the CIFAR-10 data and save it to file. The code below also uses 10% of the training data for validation."
   ]
  },
  {
   "cell_type": "code",
   "execution_count": 5,
   "metadata": {
    "collapsed": false,
    "deletable": true,
    "editable": true
   },
   "outputs": [],
   "source": [
    "\"\"\"\n",
    "DON'T MODIFY ANYTHING IN THIS CELL\n",
    "\"\"\"\n",
    "# Preprocess Training, Validation, and Testing Data\n",
    "helper.preprocess_and_save_data(cifar10_dataset_folder_path, normalize, one_hot_encode)"
   ]
  },
  {
   "cell_type": "markdown",
   "metadata": {
    "deletable": true,
    "editable": true
   },
   "source": [
    "# Check Point\n",
    "This is your first checkpoint.  If you ever decide to come back to this notebook or have to restart the notebook, you can start from here.  The preprocessed data has been saved to disk."
   ]
  },
  {
   "cell_type": "code",
   "execution_count": 6,
   "metadata": {
    "collapsed": true,
    "deletable": true,
    "editable": true
   },
   "outputs": [],
   "source": [
    "\"\"\"\n",
    "DON'T MODIFY ANYTHING IN THIS CELL\n",
    "\"\"\"\n",
    "import pickle\n",
    "import problem_unittests as tests\n",
    "import helper\n",
    "\n",
    "# Load the Preprocessed Validation data\n",
    "valid_features, valid_labels = pickle.load(open('preprocess_validation.p', mode='rb'))"
   ]
  },
  {
   "cell_type": "markdown",
   "metadata": {
    "deletable": true,
    "editable": true
   },
   "source": [
    "## Build the network\n",
    "For the neural network, you'll build each layer into a function.  Most of the code you've seen has been outside of functions. To test your code more thoroughly, we require that you put each layer in a function.  This allows us to give you better feedback and test for simple mistakes using our unittests before you submit your project.\n",
    "\n",
    ">**Note:** If you're finding it hard to dedicate enough time for this course each week, we've provided a small shortcut to this part of the project. In the next couple of problems, you'll have the option to use classes from the [TensorFlow Layers](https://www.tensorflow.org/api_docs/python/tf/layers) or [TensorFlow Layers (contrib)](https://www.tensorflow.org/api_guides/python/contrib.layers) packages to build each layer, except the layers you build in the \"Convolutional and Max Pooling Layer\" section.  TF Layers is similar to Keras's and TFLearn's abstraction to layers, so it's easy to pickup.\n",
    "\n",
    ">However, if you would like to get the most out of this course, try to solve all the problems _without_ using anything from the TF Layers packages. You **can** still use classes from other packages that happen to have the same name as ones you find in TF Layers! For example, instead of using the TF Layers version of the `conv2d` class, [tf.layers.conv2d](https://www.tensorflow.org/api_docs/python/tf/layers/conv2d), you would want to use the TF Neural Network version of `conv2d`, [tf.nn.conv2d](https://www.tensorflow.org/api_docs/python/tf/nn/conv2d). \n",
    "\n",
    "Let's begin!\n",
    "\n",
    "### Input\n",
    "The neural network needs to read the image data, one-hot encoded labels, and dropout keep probability. Implement the following functions\n",
    "* Implement `neural_net_image_input`\n",
    " * Return a [TF Placeholder](https://www.tensorflow.org/api_docs/python/tf/placeholder)\n",
    " * Set the shape using `image_shape` with batch size set to `None`.\n",
    " * Name the TensorFlow placeholder \"x\" using the TensorFlow `name` parameter in the [TF Placeholder](https://www.tensorflow.org/api_docs/python/tf/placeholder).\n",
    "* Implement `neural_net_label_input`\n",
    " * Return a [TF Placeholder](https://www.tensorflow.org/api_docs/python/tf/placeholder)\n",
    " * Set the shape using `n_classes` with batch size set to `None`.\n",
    " * Name the TensorFlow placeholder \"y\" using the TensorFlow `name` parameter in the [TF Placeholder](https://www.tensorflow.org/api_docs/python/tf/placeholder).\n",
    "* Implement `neural_net_keep_prob_input`\n",
    " * Return a [TF Placeholder](https://www.tensorflow.org/api_docs/python/tf/placeholder) for dropout keep probability.\n",
    " * Name the TensorFlow placeholder \"keep_prob\" using the TensorFlow `name` parameter in the [TF Placeholder](https://www.tensorflow.org/api_docs/python/tf/placeholder).\n",
    "\n",
    "These names will be used at the end of the project to load your saved model.\n",
    "\n",
    "Note: `None` for shapes in TensorFlow allow for a dynamic size."
   ]
  },
  {
   "cell_type": "code",
   "execution_count": 7,
   "metadata": {
    "collapsed": false,
    "deletable": true,
    "editable": true
   },
   "outputs": [
    {
     "name": "stdout",
     "output_type": "stream",
     "text": [
      "Image Input Tests Passed.\n",
      "Label Input Tests Passed.\n",
      "Keep Prob Tests Passed.\n"
     ]
    }
   ],
   "source": [
    "import tensorflow as tf\n",
    "\n",
    "def neural_net_image_input(image_shape):\n",
    "    \"\"\"\n",
    "    Return a Tensor for a batch of image input\n",
    "    : image_shape: Shape of the images\n",
    "    : return: Tensor for image input.\n",
    "    \"\"\"\n",
    "    # TODO: Implement Function\n",
    "    return tf.placeholder(tf.float32, [None] + list(image_shape), \"x\")\n",
    "\n",
    "\n",
    "def neural_net_label_input(n_classes):\n",
    "    \"\"\"\n",
    "    Return a Tensor for a batch of label input\n",
    "    : n_classes: Number of classes\n",
    "    : return: Tensor for label input.\n",
    "    \"\"\"\n",
    "    # TODO: Implement Function\n",
    "    return tf.placeholder(tf.float32, [None, n_classes], \"y\")\n",
    "\n",
    "\n",
    "def neural_net_keep_prob_input():\n",
    "    \"\"\"\n",
    "    Return a Tensor for keep probability\n",
    "    : return: Tensor for keep probability.\n",
    "    \"\"\"\n",
    "    # TODO: Implement Function\n",
    "    return tf.placeholder(tf.float32, None, \"keep_prob\")\n",
    "\n",
    "\n",
    "\"\"\"\n",
    "DON'T MODIFY ANYTHING IN THIS CELL THAT IS BELOW THIS LINE\n",
    "\"\"\"\n",
    "tf.reset_default_graph()\n",
    "tests.test_nn_image_inputs(neural_net_image_input)\n",
    "tests.test_nn_label_inputs(neural_net_label_input)\n",
    "tests.test_nn_keep_prob_inputs(neural_net_keep_prob_input)"
   ]
  },
  {
   "cell_type": "markdown",
   "metadata": {
    "deletable": true,
    "editable": true
   },
   "source": [
    "### Convolution and Max Pooling Layer\n",
    "Convolution layers have a lot of success with images. For this code cell, you should implement the function `conv2d_maxpool` to apply convolution then max pooling:\n",
    "* Create the weight and bias using `conv_ksize`, `conv_num_outputs` and the shape of `x_tensor`.\n",
    "* Apply a convolution to `x_tensor` using weight and `conv_strides`.\n",
    " * We recommend you use same padding, but you're welcome to use any padding.\n",
    "* Add bias\n",
    "* Add a nonlinear activation to the convolution.\n",
    "* Apply Max Pooling using `pool_ksize` and `pool_strides`.\n",
    " * We recommend you use same padding, but you're welcome to use any padding.\n",
    "\n",
    "**Note:** You **can't** use [TensorFlow Layers](https://www.tensorflow.org/api_docs/python/tf/layers) or [TensorFlow Layers (contrib)](https://www.tensorflow.org/api_guides/python/contrib.layers) for **this** layer, but you can still use TensorFlow's [Neural Network](https://www.tensorflow.org/api_docs/python/tf/nn) package. You may still use the shortcut option for all the **other** layers."
   ]
  },
  {
   "cell_type": "code",
   "execution_count": 8,
   "metadata": {
    "collapsed": false,
    "deletable": true,
    "editable": true
   },
   "outputs": [
    {
     "name": "stdout",
     "output_type": "stream",
     "text": [
      "[1, 4, 4, 1]\n",
      "Tensor(\"Variable/read:0\", shape=(2, 2, 5, 10), dtype=float32)\n",
      "Tests Passed\n"
     ]
    }
   ],
   "source": [
    "def conv2d_maxpool(x_tensor, conv_num_outputs, conv_ksize, conv_strides, pool_ksize, pool_strides):\n",
    "    \"\"\"\n",
    "    Apply convolution then max pooling to x_tensor\n",
    "    :param x_tensor: TensorFlow Tensor\n",
    "    :param conv_num_outputs: Number of outputs for the convolutional layer\n",
    "    :param conv_ksize: kernal size 2-D Tuple for the convolutional layer\n",
    "    :param conv_strides: Stride 2-D Tuple for convolution\n",
    "    :param pool_ksize: kernal size 2-D Tuple for pool\n",
    "    :param pool_strides: Stride 2-D Tuple for pool\n",
    "    : return: A tensor that represents convolution and max pooling of x_tensor\n",
    "    \"\"\"\n",
    "    # TODO: Implement Function\n",
    "    dimension = x_tensor.get_shape().as_list()\n",
    "    shape = list(conv_ksize + (dimension[-1],) + (conv_num_outputs,))\n",
    "    \n",
    "    #print(shape)\n",
    "    filter_weights = tf.Variable(tf.truncated_normal(shape,0,0.1)) # (height, width, input_depth, output_depth)\n",
    "    filter_bias = tf.Variable(tf.zeros(conv_num_outputs))\n",
    "    padding = 'SAME'\n",
    "    \n",
    "    print(list((1,)+conv_strides+(1,)))\n",
    "    print(filter_weights)\n",
    "    \n",
    "    conv_layer = tf.nn.conv2d(x_tensor, filter_weights, list((1,)+conv_strides+(1,)), padding)\n",
    "    conv_layer = tf.nn.bias_add(conv_layer, filter_bias)\n",
    "    \n",
    "    conv_layer = tf.nn.relu(conv_layer)\n",
    "    \n",
    "    conv_layer = tf.nn.max_pool(\n",
    "        conv_layer,\n",
    "        ksize=[1] + list(pool_ksize) + [1],\n",
    "        strides=[1] + list(pool_strides) + [1],\n",
    "        padding='SAME')\n",
    "    \n",
    "    return conv_layer\n",
    "\n",
    "\n",
    "\"\"\"\n",
    "DON'T MODIFY ANYTHING IN THIS CELL THAT IS BELOW THIS LINE\n",
    "\"\"\"\n",
    "tests.test_con_pool(conv2d_maxpool)"
   ]
  },
  {
   "cell_type": "markdown",
   "metadata": {
    "deletable": true,
    "editable": true
   },
   "source": [
    "### Flatten Layer\n",
    "Implement the `flatten` function to change the dimension of `x_tensor` from a 4-D tensor to a 2-D tensor.  The output should be the shape (*Batch Size*, *Flattened Image Size*). Shortcut option: you can use classes from the [TensorFlow Layers](https://www.tensorflow.org/api_docs/python/tf/layers) or [TensorFlow Layers (contrib)](https://www.tensorflow.org/api_guides/python/contrib.layers) packages for this layer. For more of a challenge, only use other TensorFlow packages."
   ]
  },
  {
   "cell_type": "code",
   "execution_count": 9,
   "metadata": {
    "collapsed": false,
    "deletable": true,
    "editable": true
   },
   "outputs": [
    {
     "name": "stdout",
     "output_type": "stream",
     "text": [
      "Tests Passed\n"
     ]
    }
   ],
   "source": [
    "from numpy import prod\n",
    "def flatten(x_tensor):\n",
    "    \"\"\"\n",
    "    Flatten x_tensor to (Batch Size, Flattened Image Size)\n",
    "    : x_tensor: A tensor of size (Batch Size, ...), where ... are the image dimensions.\n",
    "    : return: A tensor of size (Batch Size, Flattened Image Size).\n",
    "    \"\"\"\n",
    "    # TODO: Implement Function\n",
    "    pd = prod\n",
    "    dimension = x_tensor.get_shape().as_list()    \n",
    "    return tf.reshape(x_tensor,[-1,pd(dimension[1:])])\n",
    "\n",
    "\n",
    "\"\"\"\n",
    "DON'T MODIFY ANYTHING IN THIS CELL THAT IS BELOW THIS LINE\n",
    "\"\"\"\n",
    "tests.test_flatten(flatten)"
   ]
  },
  {
   "cell_type": "markdown",
   "metadata": {
    "deletable": true,
    "editable": true
   },
   "source": [
    "### Fully-Connected Layer\n",
    "Implement the `fully_conn` function to apply a fully connected layer to `x_tensor` with the shape (*Batch Size*, *num_outputs*). Shortcut option: you can use classes from the [TensorFlow Layers](https://www.tensorflow.org/api_docs/python/tf/layers) or [TensorFlow Layers (contrib)](https://www.tensorflow.org/api_guides/python/contrib.layers) packages for this layer. For more of a challenge, only use other TensorFlow packages."
   ]
  },
  {
   "cell_type": "code",
   "execution_count": 10,
   "metadata": {
    "collapsed": false,
    "deletable": true,
    "editable": true
   },
   "outputs": [
    {
     "name": "stdout",
     "output_type": "stream",
     "text": [
      "Tests Passed\n"
     ]
    }
   ],
   "source": [
    "def fully_conn(x_tensor, num_outputs):\n",
    "    \"\"\"\n",
    "    Apply a fully connected layer to x_tensor using weight and bias\n",
    "    : x_tensor: A 2-D tensor where the first dimension is batch size.\n",
    "    : num_outputs: The number of output that the new tensor should be.\n",
    "    : return: A 2-D tensor where the second dimension is num_outputs.\n",
    "    \"\"\"\n",
    "    # TODO: Implement Function\n",
    "    \n",
    "    dimension = x_tensor.get_shape().as_list()\n",
    "    shape = list( (dimension[-1],) + (num_outputs,))\n",
    "    \n",
    "    #print(shape)\n",
    "    \n",
    "    weight = tf.Variable(tf.truncated_normal(shape,0,0.1))\n",
    "    bias = tf.Variable(tf.zeros(num_outputs))\n",
    "    return tf.nn.relu(tf.add(tf.matmul(x_tensor,weight), bias))\n",
    "\n",
    "\n",
    "\"\"\"\n",
    "DON'T MODIFY ANYTHING IN THIS CELL THAT IS BELOW THIS LINE\n",
    "\"\"\"\n",
    "tests.test_fully_conn(fully_conn)"
   ]
  },
  {
   "cell_type": "markdown",
   "metadata": {
    "deletable": true,
    "editable": true
   },
   "source": [
    "### Output Layer\n",
    "Implement the `output` function to apply a fully connected layer to `x_tensor` with the shape (*Batch Size*, *num_outputs*). Shortcut option: you can use classes from the [TensorFlow Layers](https://www.tensorflow.org/api_docs/python/tf/layers) or [TensorFlow Layers (contrib)](https://www.tensorflow.org/api_guides/python/contrib.layers) packages for this layer. For more of a challenge, only use other TensorFlow packages.\n",
    "\n",
    "**Note:** Activation, softmax, or cross entropy should **not** be applied to this."
   ]
  },
  {
   "cell_type": "code",
   "execution_count": 11,
   "metadata": {
    "collapsed": false,
    "deletable": true,
    "editable": true
   },
   "outputs": [
    {
     "name": "stdout",
     "output_type": "stream",
     "text": [
      "Tests Passed\n"
     ]
    }
   ],
   "source": [
    "def output(x_tensor, num_outputs):\n",
    "    \"\"\"\n",
    "    Apply a output layer to x_tensor using weight and bias\n",
    "    : x_tensor: A 2-D tensor where the first dimension is batch size.\n",
    "    : num_outputs: The number of output that the new tensor should be.\n",
    "    : return: A 2-D tensor where the second dimension is num_outputs.\n",
    "    \"\"\"\n",
    "    # TODO: Implement Function\n",
    "    \n",
    "    dimension = x_tensor.get_shape().as_list()\n",
    "    shape = list( (dimension[-1],) + (num_outputs,))\n",
    "    \n",
    "    #print(shape)\n",
    "    \n",
    "    weight = tf.Variable(tf.truncated_normal(shape,0,0.01))\n",
    "    bias = tf.Variable(tf.zeros(num_outputs))\n",
    "    return tf.add(tf.matmul(x_tensor,weight), bias)\n",
    "\n",
    "\n",
    "\"\"\"\n",
    "DON'T MODIFY ANYTHING IN THIS CELL THAT IS BELOW THIS LINE\n",
    "\"\"\"\n",
    "tests.test_output(output)"
   ]
  },
  {
   "cell_type": "markdown",
   "metadata": {
    "deletable": true,
    "editable": true
   },
   "source": [
    "### Create Convolutional Model\n",
    "Implement the function `conv_net` to create a convolutional neural network model. The function takes in a batch of images, `x`, and outputs logits.  Use the layers you created above to create this model:\n",
    "\n",
    "* Apply 1, 2, or 3 Convolution and Max Pool layers\n",
    "* Apply a Flatten Layer\n",
    "* Apply 1, 2, or 3 Fully Connected Layers\n",
    "* Apply an Output Layer\n",
    "* Return the output\n",
    "* Apply [TensorFlow's Dropout](https://www.tensorflow.org/api_docs/python/tf/nn/dropout) to one or more layers in the model using `keep_prob`. "
   ]
  },
  {
   "cell_type": "code",
   "execution_count": 12,
   "metadata": {
    "collapsed": false,
    "deletable": true,
    "editable": true
   },
   "outputs": [
    {
     "name": "stdout",
     "output_type": "stream",
     "text": [
      "[1, 1, 1, 1]\n",
      "Tensor(\"Variable/read:0\", shape=(4, 4, 3, 32), dtype=float32)\n",
      "[1, 1, 1, 1]\n",
      "Tensor(\"Variable_6/read:0\", shape=(4, 4, 3, 32), dtype=float32)\n",
      "Neural Network Built!\n"
     ]
    }
   ],
   "source": [
    "def conv_net(x, keep_prob):\n",
    "    \"\"\"\n",
    "    Create a convolutional neural network model\n",
    "    : x: Placeholder tensor that holds image data.\n",
    "    : keep_prob: Placeholder tensor that hold dropout keep probability.\n",
    "    : return: Tensor that represents logits\n",
    "    \"\"\"\n",
    "    # TODO: Apply 1, 2, or 3 Convolution and Max Pool layers\n",
    "    #    Play around with different number of outputs, kernel size and stride\n",
    "    # Function Definition from Above:\n",
    "    #    conv2d_maxpool(x_tensor, conv_num_outputs, conv_ksize, conv_strides, pool_ksize, pool_strides)\n",
    "    \n",
    "    #model = conv2d_maxpool(x, conv_num_outputs=16, conv_ksize=(6,6), conv_strides=(1,1), pool_ksize=(8,8), pool_strides=(1,1))\n",
    "    model = conv2d_maxpool(x, conv_num_outputs=32, conv_ksize=(4,4), conv_strides=(1,1), pool_ksize=(4,4), pool_strides=(1,1))\n",
    "    #model = conv2d_maxpool(model, conv_num_outputs=8, conv_ksize=(4,4), conv_strides=(1,1), pool_ksize=(2,2), pool_strides=(1,1))\n",
    "    #model = tf.nn.relu(model)\n",
    "    model = tf.nn.dropout(model, keep_prob)\n",
    "    \n",
    "    \n",
    "    # TODO: Apply a Flatten Layer\n",
    "    # Function Definition from Above:\n",
    "    #   flatten(x_tensor)\n",
    "    \n",
    "    model = flatten(model)\n",
    "\n",
    "    # TODO: Apply 1, 2, or 3 Fully Connected Layers\n",
    "    #    Play around with different number of outputs\n",
    "    # Function Definition from Above:\n",
    "    #   fully_conn(x_tensor, num_outputs)\n",
    "    \n",
    "    model = fully_conn(model,387)\n",
    "    #model = fully_conn(model,280)\n",
    "    #model = fully_conn(model,20)\n",
    "    #model = tf.nn.relu(model)\n",
    "    \n",
    "    model = tf.nn.dropout(model, keep_prob)\n",
    "    \n",
    "    # TODO: Apply an Output Layer\n",
    "    #    Set this to the number of classes\n",
    "    # Function Definition from Above:\n",
    "    #   output(x_tensor, num_outputs)\n",
    "    \n",
    "    model = output(model,10)\n",
    "    \n",
    "    # TODO: return output\n",
    "    \n",
    "    return model\n",
    "\n",
    "\n",
    "\"\"\"\n",
    "DON'T MODIFY ANYTHING IN THIS CELL THAT IS BELOW THIS LINE\n",
    "\"\"\"\n",
    "\n",
    "##############################\n",
    "## Build the Neural Network ##\n",
    "##############################\n",
    "\n",
    "# Remove previous weights, bias, inputs, etc..\n",
    "tf.reset_default_graph()\n",
    "\n",
    "# Inputs\n",
    "x = neural_net_image_input((32, 32, 3))\n",
    "y = neural_net_label_input(10)\n",
    "keep_prob = neural_net_keep_prob_input()\n",
    "\n",
    "# Model\n",
    "logits = conv_net(x, keep_prob)\n",
    "\n",
    "# Name logits Tensor, so that is can be loaded from disk after training\n",
    "logits = tf.identity(logits, name='logits')\n",
    "\n",
    "# Loss and Optimizer\n",
    "cost = tf.reduce_mean(tf.nn.softmax_cross_entropy_with_logits(logits=logits, labels=y))\n",
    "optimizer = tf.train.AdamOptimizer().minimize(cost)\n",
    "\n",
    "# Accuracy\n",
    "correct_pred = tf.equal(tf.argmax(logits, 1), tf.argmax(y, 1))\n",
    "accuracy = tf.reduce_mean(tf.cast(correct_pred, tf.float32), name='accuracy')\n",
    "\n",
    "tests.test_conv_net(conv_net)"
   ]
  },
  {
   "cell_type": "markdown",
   "metadata": {
    "deletable": true,
    "editable": true
   },
   "source": [
    "## Train the Neural Network\n",
    "### Single Optimization\n",
    "Implement the function `train_neural_network` to do a single optimization.  The optimization should use `optimizer` to optimize in `session` with a `feed_dict` of the following:\n",
    "* `x` for image input\n",
    "* `y` for labels\n",
    "* `keep_prob` for keep probability for dropout\n",
    "\n",
    "This function will be called for each batch, so `tf.global_variables_initializer()` has already been called.\n",
    "\n",
    "Note: Nothing needs to be returned. This function is only optimizing the neural network."
   ]
  },
  {
   "cell_type": "code",
   "execution_count": 13,
   "metadata": {
    "collapsed": false,
    "deletable": true,
    "editable": true
   },
   "outputs": [
    {
     "name": "stdout",
     "output_type": "stream",
     "text": [
      "Tests Passed\n"
     ]
    }
   ],
   "source": [
    "def train_neural_network(session, optimizer, keep_probability, feature_batch, label_batch):\n",
    "    \"\"\"\n",
    "    Optimize the session on a batch of images and labels\n",
    "    : session: Current TensorFlow session\n",
    "    : optimizer: TensorFlow optimizer function\n",
    "    : keep_probability: keep probability\n",
    "    : feature_batch: Batch of Numpy image data\n",
    "    : label_batch: Batch of Numpy label data\n",
    "    \"\"\"\n",
    "    # TODO: Implement Function\n",
    "    session.run(optimizer, feed_dict={x:feature_batch, y:label_batch, keep_prob:keep_probability})\n",
    "    #pass\n",
    "\n",
    "\n",
    "\"\"\"\n",
    "DON'T MODIFY ANYTHING IN THIS CELL THAT IS BELOW THIS LINE\n",
    "\"\"\"\n",
    "tests.test_train_nn(train_neural_network)"
   ]
  },
  {
   "cell_type": "markdown",
   "metadata": {
    "deletable": true,
    "editable": true
   },
   "source": [
    "### Show Stats\n",
    "Implement the function `print_stats` to print loss and validation accuracy.  Use the global variables `valid_features` and `valid_labels` to calculate validation accuracy.  Use a keep probability of `1.0` to calculate the loss and validation accuracy."
   ]
  },
  {
   "cell_type": "code",
   "execution_count": 14,
   "metadata": {
    "collapsed": false,
    "deletable": true,
    "editable": true
   },
   "outputs": [],
   "source": [
    "def print_stats(session, feature_batch, label_batch, cost, accuracy):\n",
    "    \"\"\"\n",
    "    Print information about loss and validation accuracy\n",
    "    : session: Current TensorFlow session\n",
    "    : feature_batch: Batch of Numpy image data\n",
    "    : label_batch: Batch of Numpy label data\n",
    "    : cost: TensorFlow cost function\n",
    "    : accuracy: TensorFlow accuracy function\n",
    "    \"\"\"\n",
    "     # TODO: Implement Function\n",
    "    \n",
    "    loss = session.run(cost, feed_dict={x:feature_batch, y:label_batch, keep_prob:1.0})\n",
    "    valid_acc = sess.run(accuracy, feed_dict={\n",
    "                x: valid_features,\n",
    "                y: valid_labels,\n",
    "                keep_prob: 1.})\n",
    "    print('Loss: {:>10.4f} Validation Accuracy: {:.6f}'.format(\n",
    "                loss,\n",
    "                valid_acc))\n",
    "    #pass"
   ]
  },
  {
   "cell_type": "markdown",
   "metadata": {
    "deletable": true,
    "editable": true
   },
   "source": [
    "### Hyperparameters\n",
    "Tune the following parameters:\n",
    "* Set `epochs` to the number of iterations until the network stops learning or start overfitting\n",
    "* Set `batch_size` to the highest number that your machine has memory for.  Most people set them to common sizes of memory:\n",
    " * 64\n",
    " * 128\n",
    " * 256\n",
    " * ...\n",
    "* Set `keep_probability` to the probability of keeping a node using dropout"
   ]
  },
  {
   "cell_type": "code",
   "execution_count": 15,
   "metadata": {
    "collapsed": true,
    "deletable": true,
    "editable": true
   },
   "outputs": [],
   "source": [
    "# TODO: Tune Parameters\n",
    "epochs = 50\n",
    "batch_size = 512\n",
    "keep_probability = 0.3"
   ]
  },
  {
   "cell_type": "markdown",
   "metadata": {
    "deletable": true,
    "editable": true
   },
   "source": [
    "### Train on a Single CIFAR-10 Batch\n",
    "Instead of training the neural network on all the CIFAR-10 batches of data, let's use a single batch. This should save time while you iterate on the model to get a better accuracy.  Once the final validation accuracy is 50% or greater, run the model on all the data in the next section."
   ]
  },
  {
   "cell_type": "code",
   "execution_count": 16,
   "metadata": {
    "collapsed": false,
    "deletable": true,
    "editable": true
   },
   "outputs": [
    {
     "name": "stdout",
     "output_type": "stream",
     "text": [
      "Checking the Training on a Single Batch...\n",
      "Epoch  1, CIFAR-10 Batch 1:  Loss:     2.2607 Validation Accuracy: 0.240800\n",
      "Epoch  2, CIFAR-10 Batch 1:  Loss:     2.0118 Validation Accuracy: 0.303200\n",
      "Epoch  3, CIFAR-10 Batch 1:  Loss:     1.8466 Validation Accuracy: 0.365800\n",
      "Epoch  4, CIFAR-10 Batch 1:  Loss:     1.7279 Validation Accuracy: 0.409200\n",
      "Epoch  5, CIFAR-10 Batch 1:  Loss:     1.6491 Validation Accuracy: 0.422400\n",
      "Epoch  6, CIFAR-10 Batch 1:  Loss:     1.5819 Validation Accuracy: 0.450600\n",
      "Epoch  7, CIFAR-10 Batch 1:  Loss:     1.5180 Validation Accuracy: 0.456400\n",
      "Epoch  8, CIFAR-10 Batch 1:  Loss:     1.4492 Validation Accuracy: 0.487600\n",
      "Epoch  9, CIFAR-10 Batch 1:  Loss:     1.4023 Validation Accuracy: 0.501600\n",
      "Epoch 10, CIFAR-10 Batch 1:  Loss:     1.3426 Validation Accuracy: 0.508000\n",
      "Epoch 11, CIFAR-10 Batch 1:  Loss:     1.3320 Validation Accuracy: 0.511800\n",
      "Epoch 12, CIFAR-10 Batch 1:  Loss:     1.2618 Validation Accuracy: 0.527600\n",
      "Epoch 13, CIFAR-10 Batch 1:  Loss:     1.2222 Validation Accuracy: 0.538400\n",
      "Epoch 14, CIFAR-10 Batch 1:  Loss:     1.1970 Validation Accuracy: 0.537400\n",
      "Epoch 15, CIFAR-10 Batch 1:  Loss:     1.1489 Validation Accuracy: 0.548000\n",
      "Epoch 16, CIFAR-10 Batch 1:  Loss:     1.1358 Validation Accuracy: 0.546000\n",
      "Epoch 17, CIFAR-10 Batch 1:  Loss:     1.0937 Validation Accuracy: 0.550600\n",
      "Epoch 18, CIFAR-10 Batch 1:  Loss:     1.0544 Validation Accuracy: 0.560000\n",
      "Epoch 19, CIFAR-10 Batch 1:  Loss:     1.0286 Validation Accuracy: 0.564600\n",
      "Epoch 20, CIFAR-10 Batch 1:  Loss:     0.9886 Validation Accuracy: 0.560600\n",
      "Epoch 21, CIFAR-10 Batch 1:  Loss:     0.9623 Validation Accuracy: 0.571800\n",
      "Epoch 22, CIFAR-10 Batch 1:  Loss:     0.9385 Validation Accuracy: 0.569200\n",
      "Epoch 23, CIFAR-10 Batch 1:  Loss:     0.9166 Validation Accuracy: 0.576200\n",
      "Epoch 24, CIFAR-10 Batch 1:  Loss:     0.8736 Validation Accuracy: 0.578000\n",
      "Epoch 25, CIFAR-10 Batch 1:  Loss:     0.8604 Validation Accuracy: 0.569800\n",
      "Epoch 26, CIFAR-10 Batch 1:  Loss:     0.8471 Validation Accuracy: 0.582800\n",
      "Epoch 27, CIFAR-10 Batch 1:  Loss:     0.8204 Validation Accuracy: 0.579600\n",
      "Epoch 28, CIFAR-10 Batch 1:  Loss:     0.7743 Validation Accuracy: 0.580400\n",
      "Epoch 29, CIFAR-10 Batch 1:  Loss:     0.7695 Validation Accuracy: 0.586000\n",
      "Epoch 30, CIFAR-10 Batch 1:  Loss:     0.7475 Validation Accuracy: 0.594800\n",
      "Epoch 31, CIFAR-10 Batch 1:  Loss:     0.7175 Validation Accuracy: 0.595000\n",
      "Epoch 32, CIFAR-10 Batch 1:  Loss:     0.6733 Validation Accuracy: 0.598800\n",
      "Epoch 33, CIFAR-10 Batch 1:  Loss:     0.6945 Validation Accuracy: 0.593000\n",
      "Epoch 34, CIFAR-10 Batch 1:  Loss:     0.6699 Validation Accuracy: 0.596600\n",
      "Epoch 35, CIFAR-10 Batch 1:  Loss:     0.6257 Validation Accuracy: 0.594200\n",
      "Epoch 36, CIFAR-10 Batch 1:  Loss:     0.6150 Validation Accuracy: 0.600200\n",
      "Epoch 37, CIFAR-10 Batch 1:  Loss:     0.6053 Validation Accuracy: 0.602400\n",
      "Epoch 38, CIFAR-10 Batch 1:  Loss:     0.5928 Validation Accuracy: 0.600200\n",
      "Epoch 39, CIFAR-10 Batch 1:  Loss:     0.5816 Validation Accuracy: 0.603800\n",
      "Epoch 40, CIFAR-10 Batch 1:  Loss:     0.5346 Validation Accuracy: 0.606600\n",
      "Epoch 41, CIFAR-10 Batch 1:  Loss:     0.5288 Validation Accuracy: 0.601800\n",
      "Epoch 42, CIFAR-10 Batch 1:  Loss:     0.5166 Validation Accuracy: 0.603600\n",
      "Epoch 43, CIFAR-10 Batch 1:  Loss:     0.4939 Validation Accuracy: 0.608200\n",
      "Epoch 44, CIFAR-10 Batch 1:  Loss:     0.5076 Validation Accuracy: 0.604200\n",
      "Epoch 45, CIFAR-10 Batch 1:  Loss:     0.4934 Validation Accuracy: 0.604200\n",
      "Epoch 46, CIFAR-10 Batch 1:  Loss:     0.4463 Validation Accuracy: 0.610800\n",
      "Epoch 47, CIFAR-10 Batch 1:  Loss:     0.4431 Validation Accuracy: 0.611600\n",
      "Epoch 48, CIFAR-10 Batch 1:  Loss:     0.4514 Validation Accuracy: 0.602000\n",
      "Epoch 49, CIFAR-10 Batch 1:  Loss:     0.4263 Validation Accuracy: 0.614000\n",
      "Epoch 50, CIFAR-10 Batch 1:  Loss:     0.4206 Validation Accuracy: 0.611000\n"
     ]
    }
   ],
   "source": [
    "\"\"\"\n",
    "DON'T MODIFY ANYTHING IN THIS CELL\n",
    "\"\"\"\n",
    "print('Checking the Training on a Single Batch...')\n",
    "with tf.Session() as sess:\n",
    "    # Initializing the variables\n",
    "    sess.run(tf.global_variables_initializer())\n",
    "    \n",
    "    # Training cycle\n",
    "    for epoch in range(epochs):\n",
    "        batch_i = 1\n",
    "        for batch_features, batch_labels in helper.load_preprocess_training_batch(batch_i, batch_size):\n",
    "            train_neural_network(sess, optimizer, keep_probability, batch_features, batch_labels)\n",
    "        print('Epoch {:>2}, CIFAR-10 Batch {}:  '.format(epoch + 1, batch_i), end='')\n",
    "        print_stats(sess, batch_features, batch_labels, cost, accuracy)"
   ]
  },
  {
   "cell_type": "markdown",
   "metadata": {
    "deletable": true,
    "editable": true
   },
   "source": [
    "### Fully Train the Model\n",
    "Now that you got a good accuracy with a single CIFAR-10 batch, try it with all five batches."
   ]
  },
  {
   "cell_type": "code",
   "execution_count": null,
   "metadata": {
    "collapsed": false,
    "deletable": true,
    "editable": true
   },
   "outputs": [
    {
     "name": "stdout",
     "output_type": "stream",
     "text": [
      "Training...\n",
      "Epoch  1, CIFAR-10 Batch 1:  Loss:     2.3020 Validation Accuracy: 0.114800\n",
      "Epoch  1, CIFAR-10 Batch 2:  Loss:     2.2206 Validation Accuracy: 0.221400\n",
      "Epoch  1, CIFAR-10 Batch 3:  Loss:     2.0384 Validation Accuracy: 0.281800\n",
      "Epoch  1, CIFAR-10 Batch 4:  Loss:     1.9133 Validation Accuracy: 0.325200\n",
      "Epoch  1, CIFAR-10 Batch 5:  Loss:     1.8784 Validation Accuracy: 0.351200\n",
      "Epoch  2, CIFAR-10 Batch 1:  Loss:     1.8629 Validation Accuracy: 0.359200\n",
      "Epoch  2, CIFAR-10 Batch 2:  Loss:     1.6922 Validation Accuracy: 0.405200\n",
      "Epoch  2, CIFAR-10 Batch 3:  Loss:     1.6206 Validation Accuracy: 0.402800\n",
      "Epoch  2, CIFAR-10 Batch 4:  Loss:     1.5497 Validation Accuracy: 0.432200\n",
      "Epoch  2, CIFAR-10 Batch 5:  Loss:     1.6081 Validation Accuracy: 0.432600\n",
      "Epoch  3, CIFAR-10 Batch 1:  Loss:     1.6366 Validation Accuracy: 0.456200\n",
      "Epoch  3, CIFAR-10 Batch 2:  Loss:     1.5077 Validation Accuracy: 0.454400\n",
      "Epoch  3, CIFAR-10 Batch 3:  Loss:     1.4188 Validation Accuracy: 0.464400\n",
      "Epoch  3, CIFAR-10 Batch 4:  Loss:     1.3824 Validation Accuracy: 0.473000\n",
      "Epoch  3, CIFAR-10 Batch 5:  Loss:     1.4619 Validation Accuracy: 0.471800\n",
      "Epoch  4, CIFAR-10 Batch 1:  Loss:     1.5181 Validation Accuracy: 0.484200\n",
      "Epoch  4, CIFAR-10 Batch 2:  Loss:     1.4266 Validation Accuracy: 0.482600\n",
      "Epoch  4, CIFAR-10 Batch 3:  Loss:     1.2735 Validation Accuracy: 0.499000\n",
      "Epoch  4, CIFAR-10 Batch 4:  Loss:     1.2722 Validation Accuracy: 0.513000\n",
      "Epoch  4, CIFAR-10 Batch 5:  Loss:     1.3160 Validation Accuracy: 0.525800\n",
      "Epoch  5, CIFAR-10 Batch 1:  Loss:     1.4238 Validation Accuracy: 0.510000\n",
      "Epoch  5, CIFAR-10 Batch 2:  Loss:     1.3242 Validation Accuracy: 0.530200\n",
      "Epoch  5, CIFAR-10 Batch 3:  Loss:     1.1995 Validation Accuracy: 0.531200\n",
      "Epoch  5, CIFAR-10 Batch 4:  Loss:     1.1769 Validation Accuracy: 0.544400\n",
      "Epoch  5, CIFAR-10 Batch 5:  Loss:     1.2590 Validation Accuracy: 0.547800\n",
      "Epoch  6, CIFAR-10 Batch 1:  Loss:     1.3131 Validation Accuracy: 0.555000\n",
      "Epoch  6, CIFAR-10 Batch 2:  Loss:     1.2047 Validation Accuracy: 0.555800\n",
      "Epoch  6, CIFAR-10 Batch 3:  Loss:     1.1191 Validation Accuracy: 0.550200\n",
      "Epoch  6, CIFAR-10 Batch 4:  Loss:     1.0853 Validation Accuracy: 0.564400\n",
      "Epoch  6, CIFAR-10 Batch 5:  Loss:     1.1519 Validation Accuracy: 0.566600\n",
      "Epoch  7, CIFAR-10 Batch 1:  Loss:     1.2454 Validation Accuracy: 0.565000\n",
      "Epoch  7, CIFAR-10 Batch 2:  Loss:     1.1417 Validation Accuracy: 0.578000\n",
      "Epoch  7, CIFAR-10 Batch 3:  Loss:     1.0496 Validation Accuracy: 0.571200\n",
      "Epoch  7, CIFAR-10 Batch 4:  Loss:     1.0418 Validation Accuracy: 0.580200\n",
      "Epoch  7, CIFAR-10 Batch 5:  Loss:     1.0940 Validation Accuracy: 0.582200\n",
      "Epoch  8, CIFAR-10 Batch 1:  Loss:     1.1926 Validation Accuracy: 0.583400\n",
      "Epoch  8, CIFAR-10 Batch 2:  Loss:     1.1078 Validation Accuracy: 0.584200\n",
      "Epoch  8, CIFAR-10 Batch 3:  Loss:     1.0177 Validation Accuracy: 0.584600\n",
      "Epoch  8, CIFAR-10 Batch 4:  Loss:     1.0088 Validation Accuracy: 0.599400\n",
      "Epoch  8, CIFAR-10 Batch 5:  Loss:     1.0643 Validation Accuracy: 0.596400\n",
      "Epoch  9, CIFAR-10 Batch 1:  Loss:     1.1253 Validation Accuracy: 0.589000\n",
      "Epoch  9, CIFAR-10 Batch 2:  Loss:     1.0599 Validation Accuracy: 0.601400\n",
      "Epoch  9, CIFAR-10 Batch 3:  Loss:     0.9518 Validation Accuracy: 0.596600\n",
      "Epoch  9, CIFAR-10 Batch 4:  Loss:     0.9510 Validation Accuracy: 0.603400\n",
      "Epoch  9, CIFAR-10 Batch 5:  Loss:     1.0072 Validation Accuracy: 0.610400\n",
      "Epoch 10, CIFAR-10 Batch 1:  Loss:     1.0903 Validation Accuracy: 0.598600\n",
      "Epoch 10, CIFAR-10 Batch 2:  Loss:     1.0227 Validation Accuracy: 0.611600\n",
      "Epoch 10, CIFAR-10 Batch 3:  Loss:     0.9405 Validation Accuracy: 0.612200\n",
      "Epoch 10, CIFAR-10 Batch 4:  Loss:     0.9600 Validation Accuracy: 0.608600\n",
      "Epoch 10, CIFAR-10 Batch 5:  Loss:     0.9697 Validation Accuracy: 0.612600\n",
      "Epoch 11, CIFAR-10 Batch 1:  Loss:     1.0758 Validation Accuracy: 0.607000\n",
      "Epoch 11, CIFAR-10 Batch 2:  Loss:     1.0098 Validation Accuracy: 0.612800\n",
      "Epoch 11, CIFAR-10 Batch 3:  Loss:     0.9208 Validation Accuracy: 0.615800\n",
      "Epoch 11, CIFAR-10 Batch 4:  Loss:     0.8748 Validation Accuracy: 0.623600\n",
      "Epoch 11, CIFAR-10 Batch 5:  Loss:     0.9123 Validation Accuracy: 0.630600\n",
      "Epoch 12, CIFAR-10 Batch 1:  Loss:     1.0297 Validation Accuracy: 0.617800\n",
      "Epoch 12, CIFAR-10 Batch 2:  Loss:     0.9478 Validation Accuracy: 0.630400\n",
      "Epoch 12, CIFAR-10 Batch 3:  Loss:     0.8983 Validation Accuracy: 0.617000\n",
      "Epoch 12, CIFAR-10 Batch 4:  Loss:     0.8652 Validation Accuracy: 0.632200\n",
      "Epoch 12, CIFAR-10 Batch 5:  Loss:     0.8955 Validation Accuracy: 0.634000\n",
      "Epoch 13, CIFAR-10 Batch 1:  Loss:     1.0021 Validation Accuracy: 0.625400\n",
      "Epoch 13, CIFAR-10 Batch 2:  Loss:     0.9619 Validation Accuracy: 0.624800\n",
      "Epoch 13, CIFAR-10 Batch 3:  Loss:     0.8562 Validation Accuracy: 0.626600\n",
      "Epoch 13, CIFAR-10 Batch 4:  Loss:     0.8476 Validation Accuracy: 0.637000\n",
      "Epoch 13, CIFAR-10 Batch 5:  Loss:     0.8799 Validation Accuracy: 0.635000\n",
      "Epoch 14, CIFAR-10 Batch 1:  Loss:     0.9616 Validation Accuracy: 0.635200\n",
      "Epoch 14, CIFAR-10 Batch 2:  Loss:     0.9199 Validation Accuracy: 0.631000\n",
      "Epoch 14, CIFAR-10 Batch 3:  Loss:     0.8472 Validation Accuracy: 0.632200\n",
      "Epoch 14, CIFAR-10 Batch 4:  Loss:     0.8252 Validation Accuracy: 0.638000\n",
      "Epoch 14, CIFAR-10 Batch 5:  Loss:     0.8591 Validation Accuracy: 0.636600\n",
      "Epoch 15, CIFAR-10 Batch 1:  Loss:     0.9387 Validation Accuracy: 0.636000\n",
      "Epoch 15, CIFAR-10 Batch 2:  Loss:     0.8877 Validation Accuracy: 0.644200\n",
      "Epoch 15, CIFAR-10 Batch 3:  Loss:     0.8414 Validation Accuracy: 0.642400\n",
      "Epoch 15, CIFAR-10 Batch 4:  Loss:     0.8011 Validation Accuracy: 0.644000\n",
      "Epoch 15, CIFAR-10 Batch 5:  Loss:     0.8314 Validation Accuracy: 0.640800\n",
      "Epoch 16, CIFAR-10 Batch 1:  Loss:     0.9332 Validation Accuracy: 0.639000\n",
      "Epoch 16, CIFAR-10 Batch 2:  Loss:     0.8513 Validation Accuracy: 0.654000\n",
      "Epoch 16, CIFAR-10 Batch 3:  Loss:     0.7776 Validation Accuracy: 0.650600\n",
      "Epoch 16, CIFAR-10 Batch 4:  Loss:     0.7745 Validation Accuracy: 0.651400\n",
      "Epoch 16, CIFAR-10 Batch 5:  Loss:     0.7989 Validation Accuracy: 0.653400\n",
      "Epoch 17, CIFAR-10 Batch 1:  Loss:     0.8927 Validation Accuracy: 0.645400\n",
      "Epoch 17, CIFAR-10 Batch 2:  Loss:     0.8548 Validation Accuracy: 0.657200\n",
      "Epoch 17, CIFAR-10 Batch 3:  Loss:     0.7750 Validation Accuracy: 0.641200\n",
      "Epoch 17, CIFAR-10 Batch 4:  Loss:     0.7777 Validation Accuracy: 0.653600\n",
      "Epoch 17, CIFAR-10 Batch 5:  Loss:     0.7778 Validation Accuracy: 0.658400\n",
      "Epoch 18, CIFAR-10 Batch 1:  Loss:     0.8913 Validation Accuracy: 0.645600\n",
      "Epoch 18, CIFAR-10 Batch 2:  Loss:     0.8359 Validation Accuracy: 0.662600\n",
      "Epoch 18, CIFAR-10 Batch 3:  Loss:     0.7614 Validation Accuracy: 0.644200\n",
      "Epoch 18, CIFAR-10 Batch 4:  Loss:     0.7433 Validation Accuracy: 0.660000\n",
      "Epoch 18, CIFAR-10 Batch 5:  Loss:     0.7626 Validation Accuracy: 0.655400\n",
      "Epoch 19, CIFAR-10 Batch 1:  Loss:     0.8634 Validation Accuracy: 0.650800\n",
      "Epoch 19, CIFAR-10 Batch 2:  Loss:     0.7912 Validation Accuracy: 0.665000\n",
      "Epoch 19, CIFAR-10 Batch 3:  Loss:     0.7852 Validation Accuracy: 0.651200\n",
      "Epoch 19, CIFAR-10 Batch 4:  Loss:     0.7421 Validation Accuracy: 0.659400\n",
      "Epoch 19, CIFAR-10 Batch 5:  Loss:     0.7460 Validation Accuracy: 0.667600\n",
      "Epoch 20, CIFAR-10 Batch 1:  Loss:     0.8546 Validation Accuracy: 0.652800\n",
      "Epoch 20, CIFAR-10 Batch 2:  Loss:     0.7757 Validation Accuracy: 0.664200\n",
      "Epoch 20, CIFAR-10 Batch 3:  Loss:     0.7337 Validation Accuracy: 0.654400\n",
      "Epoch 20, CIFAR-10 Batch 4:  Loss:     0.7091 Validation Accuracy: 0.664200\n",
      "Epoch 20, CIFAR-10 Batch 5:  Loss:     0.7119 Validation Accuracy: 0.659400\n",
      "Epoch 21, CIFAR-10 Batch 1:  Loss:     0.8201 Validation Accuracy: 0.655200\n",
      "Epoch 21, CIFAR-10 Batch 2:  Loss:     0.7578 Validation Accuracy: 0.666400\n",
      "Epoch 21, CIFAR-10 Batch 3:  Loss:     0.6996 Validation Accuracy: 0.663800\n",
      "Epoch 21, CIFAR-10 Batch 4:  Loss:     0.6811 Validation Accuracy: 0.669600\n",
      "Epoch 21, CIFAR-10 Batch 5:  Loss:     0.6978 Validation Accuracy: 0.668600\n",
      "Epoch 22, CIFAR-10 Batch 1:  Loss:     0.7949 Validation Accuracy: 0.666400\n",
      "Epoch 22, CIFAR-10 Batch 2:  Loss:     0.7427 Validation Accuracy: 0.672000\n",
      "Epoch 22, CIFAR-10 Batch 3:  Loss:     0.7137 Validation Accuracy: 0.659400\n",
      "Epoch 22, CIFAR-10 Batch 4:  Loss:     0.6800 Validation Accuracy: 0.669600\n",
      "Epoch 22, CIFAR-10 Batch 5:  Loss:     0.6846 Validation Accuracy: 0.674600\n",
      "Epoch 23, CIFAR-10 Batch 1:  Loss:     0.7812 Validation Accuracy: 0.667200\n",
      "Epoch 23, CIFAR-10 Batch 2:  Loss:     0.7258 Validation Accuracy: 0.676200\n",
      "Epoch 23, CIFAR-10 Batch 3:  Loss:     0.6701 Validation Accuracy: 0.667200\n",
      "Epoch 23, CIFAR-10 Batch 4:  Loss:     0.6463 Validation Accuracy: 0.676600\n",
      "Epoch 23, CIFAR-10 Batch 5:  Loss:     0.7081 Validation Accuracy: 0.663600\n",
      "Epoch 24, CIFAR-10 Batch 1:  Loss:     0.7741 Validation Accuracy: 0.672800\n",
      "Epoch 24, CIFAR-10 Batch 2:  Loss:     0.7277 Validation Accuracy: 0.676600\n",
      "Epoch 24, CIFAR-10 Batch 3:  Loss:     0.6882 Validation Accuracy: 0.669400\n",
      "Epoch 24, CIFAR-10 Batch 4:  Loss:     0.6424 Validation Accuracy: 0.676000\n",
      "Epoch 24, CIFAR-10 Batch 5:  Loss:     0.6653 Validation Accuracy: 0.667400\n",
      "Epoch 25, CIFAR-10 Batch 1:  Loss:     0.7433 Validation Accuracy: 0.673600\n",
      "Epoch 25, CIFAR-10 Batch 2:  Loss:     0.7119 Validation Accuracy: 0.681000\n",
      "Epoch 25, CIFAR-10 Batch 3:  Loss:     0.6532 Validation Accuracy: 0.670000\n",
      "Epoch 25, CIFAR-10 Batch 4:  Loss:     0.6228 Validation Accuracy: 0.679000\n",
      "Epoch 25, CIFAR-10 Batch 5:  Loss:     0.6483 Validation Accuracy: 0.676600\n",
      "Epoch 26, CIFAR-10 Batch 1:  Loss:     0.7223 Validation Accuracy: 0.679400\n",
      "Epoch 26, CIFAR-10 Batch 2:  Loss:     0.6874 Validation Accuracy: 0.685000\n",
      "Epoch 26, CIFAR-10 Batch 3:  Loss:     0.6584 Validation Accuracy: 0.675800\n",
      "Epoch 26, CIFAR-10 Batch 4:  Loss:     0.6151 Validation Accuracy: 0.679200\n",
      "Epoch 26, CIFAR-10 Batch 5:  Loss:     0.6521 Validation Accuracy: 0.679200\n",
      "Epoch 27, CIFAR-10 Batch 1:  Loss:     0.7156 Validation Accuracy: 0.667000\n",
      "Epoch 27, CIFAR-10 Batch 2:  Loss:     0.6824 Validation Accuracy: 0.684600\n",
      "Epoch 27, CIFAR-10 Batch 3:  Loss:     0.6577 Validation Accuracy: 0.674200\n",
      "Epoch 27, CIFAR-10 Batch 4:  Loss:     0.6098 Validation Accuracy: 0.674000\n",
      "Epoch 27, CIFAR-10 Batch 5:  Loss:     0.6103 Validation Accuracy: 0.683200\n",
      "Epoch 28, CIFAR-10 Batch 1:  Loss:     0.6974 Validation Accuracy: 0.680200\n",
      "Epoch 28, CIFAR-10 Batch 2:  Loss:     0.6824 Validation Accuracy: 0.682400\n",
      "Epoch 28, CIFAR-10 Batch 3:  Loss:     0.6086 Validation Accuracy: 0.676200\n",
      "Epoch 28, CIFAR-10 Batch 4:  Loss:     0.5956 Validation Accuracy: 0.684400\n",
      "Epoch 28, CIFAR-10 Batch 5:  Loss:     0.6106 Validation Accuracy: 0.682400\n",
      "Epoch 29, CIFAR-10 Batch 1:  Loss:     0.6779 Validation Accuracy: 0.674600\n",
      "Epoch 29, CIFAR-10 Batch 2:  Loss:     0.6637 Validation Accuracy: 0.686600\n",
      "Epoch 36, CIFAR-10 Batch 1:  Loss:     0.5793 Validation Accuracy: 0.693600\n",
      "Epoch 36, CIFAR-10 Batch 2:  Loss:     0.5659 Validation Accuracy: 0.699200\n",
      "Epoch 36, CIFAR-10 Batch 3:  Loss:     0.5322 Validation Accuracy: 0.680200\n",
      "Epoch 36, CIFAR-10 Batch 4:  Loss:     0.5087 Validation Accuracy: 0.697800\n",
      "Epoch 36, CIFAR-10 Batch 5:  Loss:     0.5244 Validation Accuracy: 0.703200\n",
      "Epoch 37, CIFAR-10 Batch 1:  Loss:     0.5794 Validation Accuracy: 0.689200\n",
      "Epoch 37, CIFAR-10 Batch 2:  Loss:     0.5471 Validation Accuracy: 0.700200\n",
      "Epoch 37, CIFAR-10 Batch 3:  Loss:     0.5112 Validation Accuracy: 0.691800\n",
      "Epoch 37, CIFAR-10 Batch 4:  Loss:     0.4957 Validation Accuracy: 0.698800\n",
      "Epoch 37, CIFAR-10 Batch 5:  Loss:     0.4986 Validation Accuracy: 0.699200\n",
      "Epoch 38, CIFAR-10 Batch 1:  Loss:     0.5653 Validation Accuracy: 0.697400\n",
      "Epoch 38, CIFAR-10 Batch 2:  Loss:     0.5477 Validation Accuracy: 0.705200\n",
      "Epoch 38, CIFAR-10 Batch 3:  Loss:     0.5052 Validation Accuracy: 0.699600\n",
      "Epoch 38, CIFAR-10 Batch 4:  Loss:     0.4978 Validation Accuracy: 0.696400\n",
      "Epoch 38, CIFAR-10 Batch 5:  Loss:     0.5103 Validation Accuracy: 0.698000\n",
      "Epoch 39, CIFAR-10 Batch 1:  Loss:     0.5591 Validation Accuracy: 0.692000\n",
      "Epoch 39, CIFAR-10 Batch 2:  Loss:     0.5341 Validation Accuracy: 0.706000\n",
      "Epoch 39, CIFAR-10 Batch 3:  Loss:     0.4948 Validation Accuracy: 0.689800\n",
      "Epoch 39, CIFAR-10 Batch 4:  Loss:     0.4868 Validation Accuracy: 0.695600\n",
      "Epoch 39, CIFAR-10 Batch 5:  Loss:     0.4709 Validation Accuracy: 0.706600\n",
      "Epoch 40, CIFAR-10 Batch 1:  Loss:     0.5314 Validation Accuracy: 0.705400\n",
      "Epoch 40, CIFAR-10 Batch 2:  Loss:     0.5196 Validation Accuracy: 0.706200\n",
      "Epoch 40, CIFAR-10 Batch 3:  Loss:     0.4821 Validation Accuracy: 0.699600\n",
      "Epoch 40, CIFAR-10 Batch 4:  Loss:     0.4685 Validation Accuracy: 0.702400\n",
      "Epoch 40, CIFAR-10 Batch 5:  Loss:     0.4756 Validation Accuracy: 0.700800\n",
      "Epoch 41, CIFAR-10 Batch 1:  Loss:     0.5271 Validation Accuracy: 0.693000\n",
      "Epoch 41, CIFAR-10 Batch 2:  Loss:     0.5190 Validation Accuracy: 0.697800\n",
      "Epoch 41, CIFAR-10 Batch 3:  Loss:     0.4791 Validation Accuracy: 0.697800\n",
      "Epoch 41, CIFAR-10 Batch 4:  Loss:     0.4611 Validation Accuracy: 0.707600\n",
      "Epoch 41, CIFAR-10 Batch 5:  Loss:     0.4804 Validation Accuracy: 0.697000\n",
      "Epoch 42, CIFAR-10 Batch 1:  Loss:     0.5334 Validation Accuracy: 0.697200\n",
      "Epoch 42, CIFAR-10 Batch 2:  Loss:     0.5175 Validation Accuracy: 0.702200\n",
      "Epoch 42, CIFAR-10 Batch 3:  Loss:     0.4933 Validation Accuracy: 0.701400\n",
      "Epoch 42, CIFAR-10 Batch 4:  Loss:     0.4543 Validation Accuracy: 0.704400\n",
      "Epoch 42, CIFAR-10 Batch 5:  Loss:     0.4606 Validation Accuracy: 0.696800\n",
      "Epoch 43, CIFAR-10 Batch 1:  Loss:     0.5114 Validation Accuracy: 0.705800\n",
      "Epoch 43, CIFAR-10 Batch 2:  Loss:     0.4870 Validation Accuracy: 0.715400\n",
      "Epoch 43, CIFAR-10 Batch 3:  Loss:     0.4660 Validation Accuracy: 0.699800\n",
      "Epoch 43, CIFAR-10 Batch 4:  Loss:     0.4318 Validation Accuracy: 0.710400\n",
      "Epoch 43, CIFAR-10 Batch 5:  Loss:     0.4393 Validation Accuracy: 0.702600\n",
      "Epoch 44, CIFAR-10 Batch 1:  Loss:     0.5099 Validation Accuracy: 0.700800\n",
      "Epoch 44, CIFAR-10 Batch 2:  Loss:     0.4872 Validation Accuracy: 0.710200\n",
      "Epoch 44, CIFAR-10 Batch 3:  Loss:     0.4408 Validation Accuracy: 0.700600\n",
      "Epoch 44, CIFAR-10 Batch 4:  Loss:     0.4341 Validation Accuracy: 0.705600\n",
      "Epoch 44, CIFAR-10 Batch 5:  Loss:     0.4407 Validation Accuracy: 0.707000\n",
      "Epoch 45, CIFAR-10 Batch 1:  Loss:     0.4889 Validation Accuracy: 0.706000\n",
      "Epoch 45, CIFAR-10 Batch 2:  Loss:     0.4664 Validation Accuracy: 0.708000\n",
      "Epoch 45, CIFAR-10 Batch 3:  Loss:     0.4305 Validation Accuracy: 0.706000\n",
      "Epoch 45, CIFAR-10 Batch 4:  Loss:     0.4162 Validation Accuracy: 0.713000\n",
      "Epoch 45, CIFAR-10 Batch 5:  Loss:     0.4062 Validation Accuracy: 0.703400\n",
      "Epoch 46, CIFAR-10 Batch 1:  Loss:     0.4793 Validation Accuracy: 0.706600\n",
      "Epoch 46, CIFAR-10 Batch 2:  Loss:     0.4554 Validation Accuracy: 0.711600\n",
      "Epoch 46, CIFAR-10 Batch 3:  Loss:     0.4358 Validation Accuracy: 0.701600\n",
      "Epoch 46, CIFAR-10 Batch 4:  Loss:     0.4171 Validation Accuracy: 0.709600\n",
      "Epoch 46, CIFAR-10 Batch 5:  Loss:     0.4188 Validation Accuracy: 0.700400\n",
      "Epoch 47, CIFAR-10 Batch 1:  Loss:     0.4698 Validation Accuracy: 0.701000\n",
      "Epoch 47, CIFAR-10 Batch 2:  Loss:     0.4531 Validation Accuracy: 0.708800\n",
      "Epoch 47, CIFAR-10 Batch 3:  Loss:     0.4149 Validation Accuracy: 0.707600\n",
      "Epoch 47, CIFAR-10 Batch 4:  Loss:     0.4105 Validation Accuracy: 0.705000\n",
      "Epoch 47, CIFAR-10 Batch 5:  Loss:     0.4163 Validation Accuracy: 0.709200\n",
      "Epoch 48, CIFAR-10 Batch 1:  Loss:     0.4773 Validation Accuracy: 0.708000\n",
      "Epoch 48, CIFAR-10 Batch 2:  Loss:     0.4467 Validation Accuracy: 0.719800\n",
      "Epoch 48, CIFAR-10 Batch 3:  Loss:     0.4391 Validation Accuracy: 0.699600\n",
      "Epoch 48, CIFAR-10 Batch 4:  Loss:     0.3967 Validation Accuracy: 0.709600\n",
      "Epoch 48, CIFAR-10 Batch 5:  Loss:     0.3982 Validation Accuracy: 0.706400\n",
      "Epoch 49, CIFAR-10 Batch 1:  Loss:     0.4504 Validation Accuracy: 0.715200\n",
      "Epoch 49, CIFAR-10 Batch 2:  Loss:     0.4522 Validation Accuracy: 0.704400\n",
      "Epoch 49, CIFAR-10 Batch 3:  Loss:     0.4267 Validation Accuracy: 0.703600\n",
      "Epoch 49, CIFAR-10 Batch 4:  Loss:     0.4159 Validation Accuracy: 0.707600\n",
      "Epoch 49, CIFAR-10 Batch 5:  Loss:     0.4048 Validation Accuracy: 0.704800\n",
      "Epoch 50, CIFAR-10 Batch 1:  Loss:     0.4535 Validation Accuracy: 0.712600\n",
      "Epoch 50, CIFAR-10 Batch 2:  Loss:     0.4287 Validation Accuracy: 0.710200\n",
      "Epoch 50, CIFAR-10 Batch 3:  Loss:     0.4159 Validation Accuracy: 0.711400\n",
      "Epoch 50, CIFAR-10 Batch 4:  Loss:     0.4042 Validation Accuracy: 0.711400\n",
      "Epoch 50, CIFAR-10 Batch 5:  Loss:     0.3846 Validation Accuracy: 0.708000\n"
     ]
    }
   ],
   "source": [
    "\"\"\"\n",
    "DON'T MODIFY ANYTHING IN THIS CELL\n",
    "\"\"\"\n",
    "save_model_path = './image_classification'\n",
    "\n",
    "print('Training...')\n",
    "with tf.Session() as sess:\n",
    "    # Initializing the variables\n",
    "    sess.run(tf.global_variables_initializer())\n",
    "    \n",
    "    # Training cycle\n",
    "    for epoch in range(epochs):\n",
    "        # Loop over all batches\n",
    "        n_batches = 5\n",
    "        for batch_i in range(1, n_batches + 1):\n",
    "            for batch_features, batch_labels in helper.load_preprocess_training_batch(batch_i, batch_size):\n",
    "                train_neural_network(sess, optimizer, keep_probability, batch_features, batch_labels)\n",
    "            print('Epoch {:>2}, CIFAR-10 Batch {}:  '.format(epoch + 1, batch_i), end='')\n",
    "            print_stats(sess, batch_features, batch_labels, cost, accuracy)\n",
    "            \n",
    "    # Save Model\n",
    "    saver = tf.train.Saver()\n",
    "    save_path = saver.save(sess, save_model_path)"
   ]
  },
  {
   "cell_type": "markdown",
   "metadata": {
    "deletable": true,
    "editable": true
   },
   "source": [
    "# Checkpoint\n",
    "The model has been saved to disk.\n",
    "## Test Model\n",
    "Test your model against the test dataset.  This will be your final accuracy. You should have an accuracy greater than 50%. If you don't, keep tweaking the model architecture and parameters."
   ]
  },
  {
   "cell_type": "code",
   "execution_count": 19,
   "metadata": {
    "collapsed": false,
    "deletable": true,
    "editable": true,
    "scrolled": true
   },
   "outputs": [
    {
     "name": "stdout",
     "output_type": "stream",
     "text": [
      "Testing Accuracy: 0.7014935672283172\n",
      "\n"
     ]
    },
    {
     "data": {
      "image/png": "[encoded data removed]",
      "text/plain": [
       "<matplotlib.figure.Figure at 0x7f7b9c6a5f60>"
      ]
     },
     "metadata": {
      "image/png": {
       "height": 319,
       "width": 355
      }
     },
     "output_type": "display_data"
    }
   ],
   "source": [
    "\"\"\"\n",
    "DON'T MODIFY ANYTHING IN THIS CELL\n",
    "\"\"\"\n",
    "%matplotlib inline\n",
    "%config InlineBackend.figure_format = 'retina'\n",
    "\n",
    "import tensorflow as tf\n",
    "import pickle\n",
    "import helper\n",
    "import random\n",
    "\n",
    "# Set batch size if not already set\n",
    "try:\n",
    "    if batch_size:\n",
    "        pass\n",
    "except NameError:\n",
    "    batch_size = 64\n",
    "\n",
    "save_model_path = './image_classification'\n",
    "n_samples = 4\n",
    "top_n_predictions = 3\n",
    "\n",
    "def test_model():\n",
    "    \"\"\"\n",
    "    Test the saved model against the test dataset\n",
    "    \"\"\"\n",
    "\n",
    "    test_features, test_labels = pickle.load(open('preprocess_training.p', mode='rb'))\n",
    "    loaded_graph = tf.Graph()\n",
    "\n",
    "    with tf.Session(graph=loaded_graph) as sess:\n",
    "        # Load model\n",
    "        loader = tf.train.import_meta_graph(save_model_path + '.meta')\n",
    "        loader.restore(sess, save_model_path)\n",
    "\n",
    "        # Get Tensors from loaded model\n",
    "        loaded_x = loaded_graph.get_tensor_by_name('x:0')\n",
    "        loaded_y = loaded_graph.get_tensor_by_name('y:0')\n",
    "        loaded_keep_prob = loaded_graph.get_tensor_by_name('keep_prob:0')\n",
    "        loaded_logits = loaded_graph.get_tensor_by_name('logits:0')\n",
    "        loaded_acc = loaded_graph.get_tensor_by_name('accuracy:0')\n",
    "        \n",
    "        # Get accuracy in batches for memory limitations\n",
    "        test_batch_acc_total = 0\n",
    "        test_batch_count = 0\n",
    "        \n",
    "        for train_feature_batch, train_label_batch in helper.batch_features_labels(test_features, test_labels, batch_size):\n",
    "            test_batch_acc_total += sess.run(\n",
    "                loaded_acc,\n",
    "                feed_dict={loaded_x: train_feature_batch, loaded_y: train_label_batch, loaded_keep_prob: 1.0})\n",
    "            test_batch_count += 1\n",
    "\n",
    "        print('Testing Accuracy: {}\\n'.format(test_batch_acc_total/test_batch_count))\n",
    "\n",
    "        # Print Random Samples\n",
    "        random_test_features, random_test_labels = tuple(zip(*random.sample(list(zip(test_features, test_labels)), n_samples)))\n",
    "        random_test_predictions = sess.run(\n",
    "            tf.nn.top_k(tf.nn.softmax(loaded_logits), top_n_predictions),\n",
    "            feed_dict={loaded_x: random_test_features, loaded_y: random_test_labels, loaded_keep_prob: 1.0})\n",
    "        helper.display_image_predictions(random_test_features, random_test_labels, random_test_predictions)\n",
    "\n",
    "\n",
    "test_model()"
   ]
  },
  {
   "cell_type": "markdown",
   "metadata": {
    "deletable": true,
    "editable": true
   },
   "source": [
    "# Why 50-80% Accuracy?\n",
    "You might be wondering why you can't get an accuracy any higher. First things first, 50% isn't bad for a simple CNN.  Pure guessing would get you 10% accuracy. However, you might notice people are getting scores [well above 80%](http://rodrigob.github.io/are_we_there_yet/build/classification_datasets_results.html#43494641522d3130).  That's because we haven't taught you all there is to know about neural networks. We still need to cover a few more techniques.\n",
    "## Submitting This Project\n",
    "When submitting this project, make sure to run all the cells before saving the notebook.  Save the notebook file as \"dlnd_image_classification.ipynb\" and save it as a HTML file under \"File\" -> \"Download as\".  Include the \"helper.py\" and \"problem_unittests.py\" files in your submission."
   ]
  }
 ],
 "metadata": {
  "kernelspec": {
   "display_name": "Python 3",
   "language": "python",
   "name": "python3"
  },
  "language_info": {
   "codemirror_mode": {
    "name": "ipython",
    "version": 3
   },
   "file_extension": ".py",
   "mimetype": "text/x-python",
   "name": "python",
   "nbconvert_exporter": "python",
   "pygments_lexer": "ipython3",
   "version": "3.5.2"
  },
  "widgets": {
   "state": {},
   "version": "1.1.2"
  }
 },
 "nbformat": 4,
 "nbformat_minor": 0
}
